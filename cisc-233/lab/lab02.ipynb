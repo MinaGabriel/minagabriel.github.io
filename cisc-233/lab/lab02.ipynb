{
 "cells": [
  {
   "cell_type": "markdown",
   "metadata": {},
   "source": [
    "## Q-1. (2.5 pts)\n",
    "\n",
    "The objective of this task is to implement the Heap Sort algorithm, understand its properties, and analyze its time complexity.\n",
    "\n",
    "**1. Heap Sort Implementation:**\n",
    "\n",
    "* **heapify:** Implement a method to heapify a subtree rooted at a given index in the array representation of the heap.\n",
    "* **build heap:** Implement a method to build a Max Heap from an array of elements.\n",
    "* **heap sort:** Implement the Heap Sort algorithm using the Max Heap data structure.\n",
    "\n",
    "**2. Testing:**\n",
    "\n",
    "Test your implementation with different input scenarios, including:\n",
    "\n",
    "* Random arrays of varying sizes.\n",
    "* Arrays with duplicate elements.\n",
    "* Sorted arrays (ascending and descending).\n",
    "* Arrays with negative numbers.\n",
    "\n",
    "* Verify that Heap Sort produces correct output for each input scenario.\n",
    "\n",
    "\n",
    "Analyze the time complexity of Heap Sort, explain in details."
   ]
  },
  {
   "cell_type": "code",
   "execution_count": null,
   "metadata": {
    "vscode": {
     "languageId": "plaintext"
    }
   },
   "outputs": [],
   "source": [
    "# Solution"
   ]
  },
  {
   "cell_type": "markdown",
   "metadata": {},
   "source": [
    "## Q-2. (2.5 pts)\n",
    "\n",
    "This task involves developing a Binary Search Tree (BST) class with an AVL balancing check. You won't be implementing functionalities like insertion, deletion, or search.\n",
    "\n",
    "**Task:**\n",
    "\n",
    "1. Create a class named `BST` that accepts a list during initialization and constructs the corresponding binary search tree.\n",
    "2. Implement an `AVL` method within the `BST` class to determine if the tree is balanced.\n",
    "\n",
    "**AVL Tree Definition:**\n",
    "\n",
    "An AVL tree is a self-balancing BST where, for any node, the heights of its left and right subtrees differ by at most 1.\n",
    "\n",
    "**Balance Factor:**\n",
    "\n",
    "The balance factor of a node is calculated as:\n",
    "\n",
    "`Balance Factor = |hl - hr| = {-1, 0, 1}`\n",
    "\n",
    "* `hl`: Height of the left subtree\n",
    "* `hr`: Height of the right subtree\n",
    "* Possible values: -1, 0, 1\n",
    "\n",
    "**Verification:**\n",
    "\n",
    "Use the following two lists to verify your implementation:\n",
    "\n",
    "* `[20, 15, 10, 5, 8, 2]`: This list represents an unbalanced BST.\n",
    "* `[10, 5, 15, 2, 8, 20]`: This list represents a balanced BST.\n"
   ]
  },
  {
   "cell_type": "code",
   "execution_count": null,
   "metadata": {
    "vscode": {
     "languageId": "plaintext"
    }
   },
   "outputs": [],
   "source": [
    "# Solution \n"
   ]
  }
 ],
 "metadata": {
  "language_info": {
   "name": "python"
  }
 },
 "nbformat": 4,
 "nbformat_minor": 2
}
