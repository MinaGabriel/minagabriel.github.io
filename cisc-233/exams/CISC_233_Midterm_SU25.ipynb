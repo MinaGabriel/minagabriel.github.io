{
 "cells": [
  {
   "cell_type": "markdown",
   "id": "4c03e721",
   "metadata": {},
   "source": [
    "Essential Algorithms\n",
    "CISC 233 Summer 2025\n",
    "Exam 01\n",
    "07/01/2025\n",
    "Time Limit: 90 Minutes "
   ]
  },
  {
   "cell_type": "markdown",
   "id": "7b92ddc1",
   "metadata": {},
   "source": [
    "# Short Time Questions 30 - points\n"
   ]
  },
  {
   "cell_type": "markdown",
   "id": "4587d25c",
   "metadata": {},
   "source": [
    "#### 1. (5 points) Give an example of an algorithm that runs in $O(n^2)$ time complexity. \n"
   ]
  },
  {
   "cell_type": "markdown",
   "id": "756d9f3d",
   "metadata": {},
   "source": []
  },
  {
   "cell_type": "markdown",
   "id": "5965a3b1",
   "metadata": {},
   "source": [
    "#### 2. (5 points) List two similarities and two differences between Red-Black Trees and AVL Trees.\n"
   ]
  },
  {
   "cell_type": "markdown",
   "id": "2c32b31f",
   "metadata": {},
   "source": []
  },
  {
   "cell_type": "markdown",
   "id": "7a1f5d05",
   "metadata": {},
   "source": [
    "#### 3. (5 points) Describe the best-case and worst-case scenarios when inserting an element into a Binary Search Tree. Include the time complexities.\n"
   ]
  },
  {
   "cell_type": "markdown",
   "id": "9cb7d3ee",
   "metadata": {},
   "source": []
  },
  {
   "cell_type": "markdown",
   "id": "13171f8d",
   "metadata": {},
   "source": [
    "#### 4. (5 points) Explain how the height of a binary heap is related to the number of elements n in the heap. What is the time complexity of insertion and deletion?\n"
   ]
  },
  {
   "cell_type": "markdown",
   "id": "d11bfef0",
   "metadata": {},
   "source": []
  },
  {
   "cell_type": "markdown",
   "id": "e2829d2c",
   "metadata": {},
   "source": [
    "#### 5. (5 points) Consider the function $f(n) = \\log_2(n) + 3n$. Find an appropriate Big-O notation $g(n)$ and constants $c > 0$ and $n_0 > 0$ such that $f(n) \\leq c \\cdot g(n) \\quad \\text{for all } n \\geq n_0.$\n"
   ]
  },
  {
   "cell_type": "markdown",
   "id": "be4ad23a",
   "metadata": {},
   "source": []
  },
  {
   "cell_type": "markdown",
   "id": "bd6deaa8",
   "metadata": {},
   "source": [
    "#### 6. (5 points) What is the difference between a stable and an unstable sorting algorithm? Provide an example of each.\n"
   ]
  },
  {
   "cell_type": "markdown",
   "id": "0a166fa9",
   "metadata": {},
   "source": []
  },
  {
   "cell_type": "markdown",
   "id": "5829e3d7",
   "metadata": {},
   "source": [
    "# Medium Time Questions 30 - points\n"
   ]
  },
  {
   "cell_type": "markdown",
   "id": "3e419dea",
   "metadata": {},
   "source": [
    "### 1. (15 points)\n",
    "\n",
    "Given the following list of numbers:  \n",
    "$A = [15, 8, 20, 5, 14, 25, 18]$\n",
    "\n",
    "Perform the **Min-Heapify** operation to transform the list into a valid **Min-Heap**.\n",
    "\n",
    "**(a) (10 points)** Show the step-by-step transformations of the array after applying the heapify process.\n",
    "\n",
    "**(b) (5 points)** Draw the final Min-Heap representation in **tree form**.\n"
   ]
  },
  {
   "cell_type": "markdown",
   "id": "7aa4995f",
   "metadata": {},
   "source": []
  },
  {
   "cell_type": "markdown",
   "id": "5ddfee6c",
   "metadata": {},
   "source": [
    "### 2. (15 points)\n",
    "\n",
    "Given the following sequence of integers, insert them **one by one** into an empty AVL Tree:\n",
    "\n",
    "$[30, 20, 10, 25, 40, 50, 22]$\n",
    "\n",
    "**Tasks:**\n",
    "\n",
    "- Show the **AVL Tree structure** after each insertion.\n",
    "- Clearly indicate when and what type of **rotation(s)** (LL, RR, LR, RL) are performed to maintain balance.\n",
    "- Draw the final balanced AVL Tree.\n",
    "\n"
   ]
  },
  {
   "cell_type": "markdown",
   "id": "3764022f",
   "metadata": {},
   "source": []
  },
  {
   "cell_type": "markdown",
   "id": "465dd579",
   "metadata": {},
   "source": [
    "# Long Time Questions 40 - points\n"
   ]
  },
  {
   "cell_type": "markdown",
   "id": "a1f33d24",
   "metadata": {},
   "source": [
    "### 1. (20 points) CODING QUESTION\n",
    "\n",
    "#### (a) Bubble Sort Implementation (10 points)\n",
    "\n",
    "Write your **own implementation** of the **Bubble Sort** algorithm in python. Your function should take an unsorted list of integers and return the sorted list.\n",
    "\n",
    "Example input:  \n",
    "$[9, 3, 7, 1, 5]$  \n",
    "Expected output (after sorting):  \n",
    "$[1, 3, 5, 7, 9]$\n",
    "\n",
    "Make sure to:\n",
    "- Use **nested loops** as appropriate.\n",
    "- Show how elements are compared and swapped.\n",
    "- Comment your code or explain how it works.\n",
    "\n",
    "---\n",
    "\n",
    "#### (b) Merging Two Sorted Lists (10 points)\n",
    "\n",
    "You are given **two unsorted lists**:\n",
    "\n",
    "- List A: $[12, 3, 7, 1]$\n",
    "- List B: $[10, 2, 5, 8]$\n",
    "\n",
    "**Tasks:**\n",
    "\n",
    "1. Sort both lists using your Bubble Sort implementation from part (a).\n",
    "2. Merge the two sorted lists into a single **sorted list** without using built-in sort or merge functions.\n",
    "3. Display the final merged sorted list.\n",
    "\n"
   ]
  },
  {
   "cell_type": "code",
   "execution_count": null,
   "id": "2fce9923",
   "metadata": {
    "vscode": {
     "languageId": "plaintext"
    }
   },
   "outputs": [],
   "source": []
  },
  {
   "cell_type": "markdown",
   "id": "d4d53a57",
   "metadata": {},
   "source": [
    "### 2. (20 points) CODE OR PSEUDOCODE\n",
    "\n",
    "**Critical Thinking Algorithm Challenge:**\n",
    "\n",
    "You are given an array of integers. Write an algorithm to find the **first duplicate** value in the array such that:\n",
    "\n",
    "- The second occurrence has the **minimal index** (i.e., it's the earliest second appearance).\n",
    "\n",
    "If no duplicate exists, return -1.\n",
    "\n",
    "#### Example:\n",
    "\n",
    "Input:  \n",
    "$[2, 1, 3, 5, 3, 2]$  \n",
    "Output:  \n",
    "$3$  \n",
    "*(Explanation: The second occurrence of 3 appears before the second occurrence of 2.)*\n",
    "\n",
    "#### Constraints:\n",
    "- Aim for **O(n)** time and **O(n)** space.\n",
    "- Try to explain how you would reduce space if memory is limited.\n",
    "\n"
   ]
  },
  {
   "cell_type": "markdown",
   "id": "370944a7",
   "metadata": {},
   "source": []
  }
 ],
 "metadata": {
  "language_info": {
   "name": "python"
  }
 },
 "nbformat": 4,
 "nbformat_minor": 5
}
